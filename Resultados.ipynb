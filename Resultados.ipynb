{
 "cells": [
  {
   "cell_type": "code",
   "execution_count": null,
   "metadata": {},
   "outputs": [],
   "source": [
    "\"\"\"\n",
    "Optimización usando gradiente descendente - Regresión polinomial\n",
    "-----------------------------------------------------------------------------------------\n",
    "\n",
    "En este laboratio se estimarán los parámetros óptimos de un modelo de regresión \n",
    "polinomial de grado `n`.\n",
    "\n",
    "\"\"\""
   ]
  },
  {
   "cell_type": "code",
   "execution_count": 10,
   "metadata": {},
   "outputs": [],
   "source": [
    "def pregunta_01():\n",
    "    \"\"\"\n",
    "    Complete el código presentado a continuación.\n",
    "    \"\"\"\n",
    "    # Importe pandas\n",
    "    import pandas as pd\n",
    "\n",
    "    # Importe PolynomialFeatures\n",
    "    from sklearn.preprocessing import PolynomialFeatures\n",
    "\n",
    "    # Cargue el dataset `data.csv`\n",
    "    data = pd.read_csv(\"data.csv\")\n",
    "\n",
    "    # Cree un objeto de tipo `PolynomialFeatures` con grado `2`\n",
    "    poly = PolynomialFeatures(degree=2)\n",
    "\n",
    "    # Transforme la columna `x` del dataset `data` usando el objeto `poly`\n",
    "    x_poly = poly.fit_transform(data[[\"x\"]])\n",
    "\n",
    "    # Retorne x y y\n",
    "    return x_poly, data.y\n",
    "    \n"
   ]
  },
  {
   "cell_type": "code",
   "execution_count": 13,
   "metadata": {},
   "outputs": [
    {
     "name": "stdout",
     "output_type": "stream",
     "text": [
      "[ 0.6664678  -2.99999557  2.03178244]\n"
     ]
    }
   ],
   "source": [
    "def pregunta_02():\n",
    "\n",
    "    # Importe numpy\n",
    "    import numpy as np\n",
    "\n",
    "    x_poly, y = pregunta_01()\n",
    "\n",
    "    # Fije la tasa de aprendizaje en 0.0001 y el número de iteraciones en 1000\n",
    "    learning_rate = 0.0001\n",
    "    n_iterations = 1000\n",
    "\n",
    "    # Defina el parámetro inicial `params` como un arreglo de tamaño 3 con ceros\n",
    "    params = np.zeros(x_poly.shape[1])\n",
    "    for each in range(n_iterations):\n",
    "\n",
    "        # Compute el pronóstico con los parámetros actuales\n",
    "        y_pred = np.dot(x_poly, params)\n",
    "\n",
    "        # Calcule el error\n",
    "        error = y - y_pred\n",
    "\n",
    "        # Calcule el gradiente\n",
    "        gradient = -np.sum(np.multiply(x_poly,np.array(error)[:,np.newaxis]),axis=0)\n",
    "\n",
    "        # Actualice los parámetros\n",
    "        params = params - learning_rate * gradient\n",
    "\n",
    "    print(params) \n",
    "    \n",
    "pregunta_02()"
   ]
  }
 ],
 "metadata": {
  "kernelspec": {
   "display_name": "Python 3.11.0 64-bit",
   "language": "python",
   "name": "python3"
  },
  "language_info": {
   "codemirror_mode": {
    "name": "ipython",
    "version": 3
   },
   "file_extension": ".py",
   "mimetype": "text/x-python",
   "name": "python",
   "nbconvert_exporter": "python",
   "pygments_lexer": "ipython3",
   "version": "3.11.0"
  },
  "orig_nbformat": 4,
  "vscode": {
   "interpreter": {
    "hash": "a50104b0332e12837e12e442860665aba4962bda19f2ef115e6758855a0d3565"
   }
  }
 },
 "nbformat": 4,
 "nbformat_minor": 2
}
